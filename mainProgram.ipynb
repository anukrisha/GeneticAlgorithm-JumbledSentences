{
 "cells": [
  {
   "cell_type": "code",
   "execution_count": 3,
   "metadata": {},
   "outputs": [],
   "source": [
    "import numpy as np\n",
    "import pandas as pd\n",
    "import copy\n",
    "import random\n",
    "import math"
   ]
  },
  {
   "cell_type": "code",
   "execution_count": 4,
   "metadata": {},
   "outputs": [],
   "source": [
    "#Input function to take jumbled sentence from user\n",
    "def takeInput():\n",
    "    jumbled=input('Enter the jumbled sentence: ').split()\n",
    "    return jumbled"
   ]
  },
  {
   "cell_type": "code",
   "execution_count": 5,
   "metadata": {},
   "outputs": [],
   "source": [
    "#Function to generate initial population\n",
    "def initialPopulation(jumbled,p):\n",
    "    population=[]\n",
    "    while(len(population)!=p and len(population)!=math.factorial(len(jumbled))):\n",
    "        l=copy.deepcopy(jumbled)\n",
    "        random.shuffle(l)\n",
    "        if(l not in population):\n",
    "            population.append(l)\n",
    "    return population\n",
    "        "
   ]
  },
  {
   "cell_type": "code",
   "execution_count": 30,
   "metadata": {},
   "outputs": [],
   "source": [
    "s=takeInput()\n",
    "p=initialPopulation(s,10)"
   ]
  },
  {
   "cell_type": "code",
   "execution_count": 5,
   "metadata": {},
   "outputs": [
    {
     "data": {
      "text/plain": [
       "[['anusha', 'hello', 'ma', 'everyone', 'i'],\n",
       " ['i', 'hello', 'ma', 'everyone', 'anusha'],\n",
       " ['anusha', 'everyone', 'ma', 'hello', 'i'],\n",
       " ['everyone', 'anusha', 'i', 'hello', 'ma'],\n",
       " ['i', 'ma', 'hello', 'anusha', 'everyone'],\n",
       " ['i', 'hello', 'anusha', 'ma', 'everyone'],\n",
       " ['anusha', 'hello', 'everyone', 'ma', 'i'],\n",
       " ['everyone', 'anusha', 'hello', 'ma', 'i'],\n",
       " ['hello', 'anusha', 'i', 'everyone', 'ma'],\n",
       " ['ma', 'hello', 'i', 'everyone', 'anusha']]"
      ]
     },
     "execution_count": 5,
     "metadata": {},
     "output_type": "execute_result"
    }
   ],
   "source": [
    "p"
   ]
  },
  {
   "attachments": {},
   "cell_type": "markdown",
   "metadata": {},
   "source": [
    "pip install language_tool_python"
   ]
  },
  {
   "cell_type": "code",
   "execution_count": 6,
   "metadata": {},
   "outputs": [
    {
     "name": "stderr",
     "output_type": "stream",
     "text": [
      "Downloading LanguageTool 5.7: 100%|██████████| 225M/225M [00:20<00:00, 11.1MB/s] \n",
      "Unzipping C:\\Users\\anush\\AppData\\Local\\Temp\\tmpwq_7__un.zip to C:\\Users\\anush\\.cache\\language_tool_python.\n",
      "Downloaded https://www.languagetool.org/download/LanguageTool-5.7.zip to C:\\Users\\anush\\.cache\\language_tool_python.\n"
     ]
    }
   ],
   "source": [
    "import language_tool_python\n",
    "\n",
    "tool = language_tool_python.LanguageTool('en-US')  \n",
    "\n",
    "def error_value(tool, sentence, correction=False):\n",
    "    matches = tool.check(sentence)\n",
    "    vals = []\n",
    "    if len(matches) > 0:\n",
    "        for rules in matches[0]:\n",
    "            vals.append(rules)\n",
    "        if correction:\n",
    "            return vals[6], corrected_value(tool, sentence)\n",
    "        else:\n",
    "            return vals[6]\n",
    "    else:\n",
    "        return 0\n",
    "    \n",
    "def corrected_value(tool, sentence):\n",
    "    return tool.correct(sentence)"
   ]
  },
  {
   "cell_type": "code",
   "execution_count": 24,
   "metadata": {},
   "outputs": [],
   "source": [
    "def fitness_function(population, single=False):\n",
    "    if single:\n",
    "        return 0-error_value(tool, population)\n",
    "    \n",
    "    errors = []\n",
    "    for sentence_list in population:\n",
    "        sentence = ' '.join(sentence_list)\n",
    "        err = error_value(tool, sentence)\n",
    "        err=0-err\n",
    "        errors.append(err)\n",
    "    return errors\n",
    "        "
   ]
  },
  {
   "cell_type": "code",
   "execution_count": 25,
   "metadata": {},
   "outputs": [
    {
     "data": {
      "text/plain": [
       "-3"
      ]
     },
     "execution_count": 25,
     "metadata": {},
     "output_type": "execute_result"
    }
   ],
   "source": [
    "fitness_function(\"I are a bad boy\", True)"
   ]
  },
  {
   "cell_type": "code",
   "execution_count": 12,
   "metadata": {},
   "outputs": [],
   "source": [
    "def pmx_crossover(population, window_size, start_index):\n",
    "        children = []\n",
    "        for i in range(0, len(population), 2):\n",
    "            p1 = copy.deepcopy(population[i])\n",
    "            p2 = copy.deepcopy(population[i+1])\n",
    "            c1 = [-1 for _ in range(len(p1))]\n",
    "            c2 = [-1 for _ in range(len(p2))]\n",
    "            for x in range(window_size):\n",
    "                c1[start_index+x] = p1[start_index+x]\n",
    "                c2[start_index+x] = p2[start_index+x]\n",
    "            for pos in range(len(c1)):\n",
    "                if c1[pos] == -1:\n",
    "                    curr = pos\n",
    "                    while p2[curr] in c1:\n",
    "                        curr = c1.index(p2[curr])\n",
    "                    c1[pos] = p2[curr]\n",
    "            for pos in range(len(c2)):\n",
    "                if c2[pos] == -1:\n",
    "                    curr = pos\n",
    "                    while p1[curr] in c2:\n",
    "                        curr = c2.index(p1[curr])\n",
    "                    c2[pos] = p1[curr]\n",
    "            children.append(c1)\n",
    "            children.append(c2)\n",
    "            \n",
    "        return children"
   ]
  },
  {
   "cell_type": "code",
   "execution_count": 10,
   "metadata": {},
   "outputs": [],
   "source": [
    "s=takeInput()\n",
    "p=initialPopulation(s,10)"
   ]
  },
  {
   "cell_type": "code",
   "execution_count": 13,
   "metadata": {},
   "outputs": [],
   "source": [
    "c=pmx_crossover(p,2,1)"
   ]
  },
  {
   "cell_type": "code",
   "execution_count": 14,
   "metadata": {},
   "outputs": [
    {
     "data": {
      "text/plain": [
       "[['good', 'i', 'anusha', 'hello', 'girl', 'am', 'a'],\n",
       " ['am', 'a', 'hello', 'girl', 'i', 'good', 'anusha'],\n",
       " ['girl', 'hello', 'a', 'good', 'i', 'am', 'anusha'],\n",
       " ['good', 'i', 'a', 'girl', 'hello', 'am', 'anusha'],\n",
       " ['good', 'i', 'am', 'a', 'hello', 'girl', 'anusha'],\n",
       " ['girl', 'i', 'anusha', 'hello', 'am', 'good', 'a'],\n",
       " ['good', 'anusha', 'i', 'girl', 'am', 'hello', 'a'],\n",
       " ['am', 'a', 'anusha', 'girl', 'hello', 'i', 'good'],\n",
       " ['a', 'am', 'good', 'girl', 'i', 'hello', 'anusha'],\n",
       " ['girl', 'am', 'i', 'good', 'a', 'hello', 'anusha']]"
      ]
     },
     "execution_count": 14,
     "metadata": {},
     "output_type": "execute_result"
    }
   ],
   "source": [
    "c"
   ]
  },
  {
   "cell_type": "code",
   "execution_count": 15,
   "metadata": {},
   "outputs": [
    {
     "data": {
      "text/plain": [
       "[['am', 'i', 'anusha', 'girl', 'a', 'good', 'hello'],\n",
       " ['good', 'a', 'hello', 'anusha', 'girl', 'am', 'i'],\n",
       " ['good', 'hello', 'a', 'girl', 'i', 'am', 'anusha'],\n",
       " ['girl', 'i', 'a', 'good', 'hello', 'am', 'anusha'],\n",
       " ['girl', 'i', 'am', 'hello', 'anusha', 'good', 'a'],\n",
       " ['good', 'i', 'anusha', 'a', 'hello', 'girl', 'am'],\n",
       " ['am', 'anusha', 'i', 'girl', 'hello', 'a', 'good'],\n",
       " ['good', 'a', 'anusha', 'girl', 'am', 'hello', 'i'],\n",
       " ['girl', 'am', 'good', 'i', 'a', 'hello', 'anusha'],\n",
       " ['a', 'am', 'i', 'girl', 'good', 'hello', 'anusha']]"
      ]
     },
     "execution_count": 15,
     "metadata": {},
     "output_type": "execute_result"
    }
   ],
   "source": [
    "p"
   ]
  },
  {
   "cell_type": "code",
   "execution_count": 16,
   "metadata": {},
   "outputs": [],
   "source": [
    "def swapMutation(population,n):\n",
    "    mutated=copy.deepcopy(population)\n",
    "\n",
    "    for i in range(n):\n",
    "        chromosome= random.randint(0,len(mutated)-1)\n",
    "        gene1= random.randint(0,len(mutated[chromosome])-1)\n",
    "        gene2= random.randint(0,len(mutated[chromosome])-1)\n",
    "\n",
    "        mutated[chromosome][gene1],mutated[chromosome][gene2]=mutated[chromosome][gene2],mutated[chromosome][gene1]\n",
    "    return mutated\n"
   ]
  },
  {
   "cell_type": "code",
   "execution_count": 17,
   "metadata": {},
   "outputs": [],
   "source": [
    "p1=swapMutation(c,5)"
   ]
  },
  {
   "cell_type": "code",
   "execution_count": 18,
   "metadata": {},
   "outputs": [
    {
     "data": {
      "text/plain": [
       "[['good', 'i', 'anusha', 'hello', 'girl', 'am', 'a'],\n",
       " ['am', 'a', 'hello', 'girl', 'good', 'i', 'anusha'],\n",
       " ['girl', 'hello', 'a', 'good', 'i', 'am', 'anusha'],\n",
       " ['good', 'i', 'a', 'girl', 'hello', 'am', 'anusha'],\n",
       " ['good', 'hello', 'am', 'a', 'i', 'girl', 'anusha'],\n",
       " ['girl', 'good', 'anusha', 'hello', 'am', 'i', 'a'],\n",
       " ['good', 'anusha', 'i', 'girl', 'am', 'hello', 'a'],\n",
       " ['am', 'a', 'i', 'girl', 'hello', 'anusha', 'good'],\n",
       " ['anusha', 'am', 'good', 'girl', 'i', 'hello', 'a'],\n",
       " ['girl', 'am', 'i', 'good', 'a', 'hello', 'anusha']]"
      ]
     },
     "execution_count": 18,
     "metadata": {},
     "output_type": "execute_result"
    }
   ],
   "source": [
    "p1"
   ]
  },
  {
   "cell_type": "code",
   "execution_count": 19,
   "metadata": {},
   "outputs": [
    {
     "data": {
      "text/plain": [
       "[['good', 'i', 'anusha', 'hello', 'girl', 'am', 'a'],\n",
       " ['am', 'a', 'hello', 'girl', 'i', 'good', 'anusha'],\n",
       " ['girl', 'hello', 'a', 'good', 'i', 'am', 'anusha'],\n",
       " ['good', 'i', 'a', 'girl', 'hello', 'am', 'anusha'],\n",
       " ['good', 'i', 'am', 'a', 'hello', 'girl', 'anusha'],\n",
       " ['girl', 'i', 'anusha', 'hello', 'am', 'good', 'a'],\n",
       " ['good', 'anusha', 'i', 'girl', 'am', 'hello', 'a'],\n",
       " ['am', 'a', 'anusha', 'girl', 'hello', 'i', 'good'],\n",
       " ['a', 'am', 'good', 'girl', 'i', 'hello', 'anusha'],\n",
       " ['girl', 'am', 'i', 'good', 'a', 'hello', 'anusha']]"
      ]
     },
     "execution_count": 19,
     "metadata": {},
     "output_type": "execute_result"
    }
   ],
   "source": [
    "c"
   ]
  },
  {
   "cell_type": "code",
   "execution_count": 26,
   "metadata": {},
   "outputs": [],
   "source": [
    "f=fitness_function(p1,False)"
   ]
  },
  {
   "cell_type": "code",
   "execution_count": 27,
   "metadata": {},
   "outputs": [
    {
     "data": {
      "text/plain": [
       "[-4, -2, -4, -4, -4, -4, -4, -2, -6, -4]"
      ]
     },
     "execution_count": 27,
     "metadata": {},
     "output_type": "execute_result"
    }
   ],
   "source": [
    "f"
   ]
  },
  {
   "cell_type": "code",
   "execution_count": 38,
   "metadata": {},
   "outputs": [],
   "source": [
    "#steady state selection\n",
    "\n",
    "def select_parenting_pool(population,fitness):\n",
    "        \n",
    "        new_parents = copy.deepcopy(population)\n",
    "        min_fitness=min(fitness)\n",
    "        max_fitness=max(fitness)\n",
    "\n",
    "        for i in range(len(fitness)):\n",
    "                if fitness[i]==min_fitness:\n",
    "                        new_parents.remove(population[i])\n",
    "                elif fitness[i]==max_fitness:\n",
    "                        new_parents.append(population[i])\n",
    "        \n",
    "        return new_parents"
   ]
  },
  {
   "cell_type": "code",
   "execution_count": 39,
   "metadata": {},
   "outputs": [],
   "source": [
    "np=select_parenting_pool(p1,f)"
   ]
  },
  {
   "cell_type": "code",
   "execution_count": 40,
   "metadata": {},
   "outputs": [
    {
     "data": {
      "text/plain": [
       "[['good', 'i', 'anusha', 'hello', 'girl', 'am', 'a'],\n",
       " ['am', 'a', 'hello', 'girl', 'good', 'i', 'anusha'],\n",
       " ['girl', 'hello', 'a', 'good', 'i', 'am', 'anusha'],\n",
       " ['good', 'i', 'a', 'girl', 'hello', 'am', 'anusha'],\n",
       " ['good', 'hello', 'am', 'a', 'i', 'girl', 'anusha'],\n",
       " ['girl', 'good', 'anusha', 'hello', 'am', 'i', 'a'],\n",
       " ['good', 'anusha', 'i', 'girl', 'am', 'hello', 'a'],\n",
       " ['am', 'a', 'i', 'girl', 'hello', 'anusha', 'good'],\n",
       " ['girl', 'am', 'i', 'good', 'a', 'hello', 'anusha'],\n",
       " ['am', 'a', 'hello', 'girl', 'good', 'i', 'anusha'],\n",
       " ['am', 'a', 'i', 'girl', 'hello', 'anusha', 'good']]"
      ]
     },
     "execution_count": 40,
     "metadata": {},
     "output_type": "execute_result"
    }
   ],
   "source": [
    "np"
   ]
  },
  {
   "cell_type": "code",
   "execution_count": 41,
   "metadata": {},
   "outputs": [],
   "source": [
    "fp=fitness_function(np,False)"
   ]
  },
  {
   "cell_type": "code",
   "execution_count": 42,
   "metadata": {},
   "outputs": [
    {
     "data": {
      "text/plain": [
       "[-4, -2, -4, -4, -4, -4, -4, -2, -4, -2, -2]"
      ]
     },
     "execution_count": 42,
     "metadata": {},
     "output_type": "execute_result"
    }
   ],
   "source": [
    "fp"
   ]
  },
  {
   "cell_type": "code",
   "execution_count": null,
   "metadata": {},
   "outputs": [],
   "source": []
  }
 ],
 "metadata": {
  "kernelspec": {
   "display_name": "Python 3",
   "language": "python",
   "name": "python3"
  },
  "language_info": {
   "codemirror_mode": {
    "name": "ipython",
    "version": 3
   },
   "file_extension": ".py",
   "mimetype": "text/x-python",
   "name": "python",
   "nbconvert_exporter": "python",
   "pygments_lexer": "ipython3",
   "version": "3.11.0"
  },
  "orig_nbformat": 4
 },
 "nbformat": 4,
 "nbformat_minor": 2
}
