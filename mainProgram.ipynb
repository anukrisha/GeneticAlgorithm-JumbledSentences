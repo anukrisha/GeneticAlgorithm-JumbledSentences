{
 "cells": [
  {
   "cell_type": "code",
   "execution_count": 20,
   "metadata": {},
   "outputs": [],
   "source": [
    "import numpy as np\n",
    "import pandas as pd\n",
    "import copy\n",
    "import random\n",
    "import math"
   ]
  },
  {
   "cell_type": "code",
   "execution_count": 7,
   "metadata": {},
   "outputs": [],
   "source": [
    "#Input function to take jumbled sentence from user\n",
    "def takeInput():\n",
    "    jumbled=input('Enter the jumbled sentence: ').split()\n",
    "\n",
    "    return jumbled"
   ]
  },
  {
   "cell_type": "code",
   "execution_count": 23,
   "metadata": {},
   "outputs": [],
   "source": [
    "#Function to generate inidtial population\n",
    "def initialPopulation(jumbled,p):\n",
    "    population=[]\n",
    "    while(len(population)!=p and len(population)!=math.factorial(len(jumbled))):\n",
    "        l=copy.deepcopy(jumbled)\n",
    "        random.shuffle(l)\n",
    "        if(l not in population):\n",
    "            population.append(l)\n",
    "    return population\n",
    "        "
   ]
  },
  {
   "cell_type": "code",
   "execution_count": 26,
   "metadata": {},
   "outputs": [],
   "source": [
    "s=takeInput()\n",
    "p=initialPopulation(s,10)"
   ]
  },
  {
   "cell_type": "code",
   "execution_count": 27,
   "metadata": {},
   "outputs": [
    {
     "data": {
      "text/plain": [
       "[['bad', 'anusha', 'girl', 'i', 'a'],\n",
       " ['i', 'anusha', 'girl', 'a', 'bad'],\n",
       " ['girl', 'bad', 'i', 'a', 'anusha'],\n",
       " ['a', 'i', 'bad', 'girl', 'anusha'],\n",
       " ['bad', 'anusha', 'a', 'girl', 'i'],\n",
       " ['a', 'anusha', 'bad', 'i', 'girl'],\n",
       " ['i', 'girl', 'bad', 'anusha', 'a'],\n",
       " ['anusha', 'girl', 'bad', 'a', 'i'],\n",
       " ['i', 'anusha', 'bad', 'girl', 'a'],\n",
       " ['i', 'a', 'girl', 'anusha', 'bad']]"
      ]
     },
     "execution_count": 27,
     "metadata": {},
     "output_type": "execute_result"
    }
   ],
   "source": [
    "p"
   ]
  },
  {
   "cell_type": "code",
   "execution_count": null,
   "metadata": {},
   "outputs": [],
   "source": []
  }
 ],
 "metadata": {
  "kernelspec": {
   "display_name": "Python 3",
   "language": "python",
   "name": "python3"
  },
  "language_info": {
   "codemirror_mode": {
    "name": "ipython",
    "version": 3
   },
   "file_extension": ".py",
   "mimetype": "text/x-python",
   "name": "python",
   "nbconvert_exporter": "python",
   "pygments_lexer": "ipython3",
   "version": "3.9.5"
  },
  "orig_nbformat": 4
 },
 "nbformat": 4,
 "nbformat_minor": 2
}
