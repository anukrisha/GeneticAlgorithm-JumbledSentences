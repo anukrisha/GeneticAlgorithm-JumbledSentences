{
 "cells": [
  {
   "cell_type": "code",
   "execution_count": 3,
   "metadata": {},
   "outputs": [],
   "source": [
    "import numpy as np\n",
    "import pandas as pd\n",
    "import copy\n",
    "import random\n",
    "import math"
   ]
  },
  {
   "cell_type": "code",
   "execution_count": 4,
   "metadata": {},
   "outputs": [],
   "source": [
    "#Input function to take jumbled sentence from user\n",
    "def takeInput():\n",
    "    jumbled=input('Enter the jumbled sentence: ').split()\n",
    "\n",
    "    return jumbled"
   ]
  },
  {
   "cell_type": "code",
   "execution_count": 5,
   "metadata": {},
   "outputs": [],
   "source": [
    "#Function to generate initial population\n",
    "def initialPopulation(jumbled,p):\n",
    "    population=[]\n",
    "    while(len(population)!=p and len(population)!=math.factorial(len(jumbled))):\n",
    "        l=copy.deepcopy(jumbled)\n",
    "        random.shuffle(l)\n",
    "        if(l not in population):\n",
    "            population.append(l)\n",
    "    return population\n",
    "        "
   ]
  },
  {
   "cell_type": "code",
   "execution_count": 6,
   "metadata": {},
   "outputs": [],
   "source": [
    "s=takeInput()\n",
    "p=initialPopulation(s,10)"
   ]
  },
  {
   "cell_type": "code",
   "execution_count": 7,
   "metadata": {},
   "outputs": [
    {
     "data": {
      "text/plain": [
       "[['a', 'am', 'I', 'boy', 'good'],\n",
       " ['I', 'good', 'a', 'am', 'boy'],\n",
       " ['a', 'I', 'boy', 'am', 'good'],\n",
       " ['a', 'I', 'boy', 'good', 'am'],\n",
       " ['a', 'I', 'good', 'am', 'boy'],\n",
       " ['I', 'boy', 'am', 'good', 'a'],\n",
       " ['am', 'good', 'boy', 'I', 'a'],\n",
       " ['boy', 'I', 'am', 'a', 'good'],\n",
       " ['good', 'am', 'a', 'I', 'boy'],\n",
       " ['boy', 'I', 'a', 'good', 'am']]"
      ]
     },
     "execution_count": 7,
     "metadata": {},
     "output_type": "execute_result"
    }
   ],
   "source": [
    "p"
   ]
  },
  {
   "attachments": {},
   "cell_type": "markdown",
   "metadata": {},
   "source": [
    "pip install language_tool_python"
   ]
  },
  {
   "cell_type": "code",
   "execution_count": 28,
   "metadata": {},
   "outputs": [],
   "source": [
    "import language_tool_python\n",
    "\n",
    "tool = language_tool_python.LanguageTool('en-US')  \n",
    "\n",
    "def error_value(tool, sentence, correction=False):\n",
    "    matches = tool.check(sentence)\n",
    "    vals = []\n",
    "    if len(matches) > 0:\n",
    "        for rules in matches[0]:\n",
    "            vals.append(rules)\n",
    "        if correction:\n",
    "            return vals[6], corrected_value(tool, sentence)\n",
    "        else:\n",
    "            return vals[6]\n",
    "    else:\n",
    "        return 0\n",
    "    \n",
    "def corrected_value(tool, sentence):\n",
    "    return tool.correct(sentence)"
   ]
  },
  {
   "cell_type": "code",
   "execution_count": 32,
   "metadata": {},
   "outputs": [
    {
     "data": {
      "text/plain": [
       "[1, 1, 3, 3, 3, 5, 2, 3, 4, 3]"
      ]
     },
     "execution_count": 32,
     "metadata": {},
     "output_type": "execute_result"
    }
   ],
   "source": [
    "def fitness_function(population):\n",
    "    errors = []\n",
    "    for sentence_list in population:\n",
    "        sentence = ' '.join(sentence_list)\n",
    "        err = error_value(tool, sentence)\n",
    "        errors.append(err)\n",
    "    return errors\n",
    "        \n",
    "fitness_function(p)"
   ]
  },
  {
   "cell_type": "code",
   "execution_count": null,
   "metadata": {},
   "outputs": [],
   "source": []
  }
 ],
 "metadata": {
  "kernelspec": {
   "display_name": "Python 3",
   "language": "python",
   "name": "python3"
  },
  "language_info": {
   "codemirror_mode": {
    "name": "ipython",
    "version": 3
   },
   "file_extension": ".py",
   "mimetype": "text/x-python",
   "name": "python",
   "nbconvert_exporter": "python",
   "pygments_lexer": "ipython3",
   "version": "3.10.9"
  },
  "orig_nbformat": 4
 },
 "nbformat": 4,
 "nbformat_minor": 2
}
